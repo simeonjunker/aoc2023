{
 "cells": [
  {
   "cell_type": "code",
   "execution_count": 1,
   "metadata": {},
   "outputs": [],
   "source": [
    "import re"
   ]
  },
  {
   "cell_type": "raw",
   "metadata": {},
   "source": [
    "data = \"\"\"\n",
    "Monkey 0:\n",
    "  Starting items: 79, 98\n",
    "  Operation: new = old * 19\n",
    "  Test: divisible by 23\n",
    "    If true: throw to monkey 2\n",
    "    If false: throw to monkey 3\n",
    "\n",
    "Monkey 1:\n",
    "  Starting items: 54, 65, 75, 74\n",
    "  Operation: new = old + 6\n",
    "  Test: divisible by 19\n",
    "    If true: throw to monkey 2\n",
    "    If false: throw to monkey 0\n",
    "\n",
    "Monkey 2:\n",
    "  Starting items: 79, 60, 97\n",
    "  Operation: new = old * old\n",
    "  Test: divisible by 13\n",
    "    If true: throw to monkey 1\n",
    "    If false: throw to monkey 3\n",
    "\n",
    "Monkey 3:\n",
    "  Starting items: 74\n",
    "  Operation: new = old + 3\n",
    "  Test: divisible by 17\n",
    "    If true: throw to monkey 0\n",
    "    If false: throw to monkey 1\n",
    "\n",
    "\"\"\".strip().split('\\n\\n')"
   ]
  },
  {
   "cell_type": "code",
   "execution_count": 2,
   "metadata": {},
   "outputs": [],
   "source": [
    "with open('input') as f:\n",
    "    data = f.read().strip().split('\\n\\n')"
   ]
  },
  {
   "cell_type": "code",
   "execution_count": 3,
   "metadata": {},
   "outputs": [],
   "source": [
    "def parse_input(entry):\n",
    "\n",
    "    monkey_line, item_line, operation_line, test_line, true_line, false_line = [\n",
    "        e.strip() for e in entry.split('\\n')]\n",
    "    \n",
    "    monkey_id = int(re.search(r'Monkey (\\d+):', monkey_line).group(1))\n",
    "    \n",
    "    item_ids = [\n",
    "        int(item) for item \n",
    "        in re.search(r'Starting items: ([\\d, ]+)', item_line).group(1).split(', ')]\n",
    "    \n",
    "    o_match = re.search(r'Operation: new = old ([\\*\\+]) (\\w+)', operation_line)\n",
    "    operator, operand = o_match.group(1), o_match.group(2)\n",
    "    operand = int(operand) if operand != 'old' else operand\n",
    "\n",
    "    if operator == '+':\n",
    "        operation = (lambda x: x + operand) if type(operand) == int else (lambda x: x + x)\n",
    "    else: \n",
    "        operation = (lambda x: x * operand) if type(operand) == int else (lambda x: x * x)\n",
    "    \n",
    "    divisor = int(re.search(r'Test: divisible by (\\d+)', test_line).group(1))\n",
    "    true_target = int(re.search(r'If true: throw to monkey (\\d+)', true_line).group(1))\n",
    "    false_target = int(re.search(r'If false: throw to monkey (\\d+)', false_line).group(1))\n",
    "    \n",
    "    return monkey_id, item_ids, operation, divisor, true_target, false_target"
   ]
  },
  {
   "cell_type": "markdown",
   "metadata": {},
   "source": [
    "# Part 1"
   ]
  },
  {
   "cell_type": "code",
   "execution_count": 4,
   "metadata": {},
   "outputs": [],
   "source": [
    "class Monkey():\n",
    "    def __init__(self, monkey_id, current_items, operation, divisor, true_target, false_target):\n",
    "\n",
    "        self.id = monkey_id\n",
    "        self.current_items = current_items\n",
    "        self.operation = operation\n",
    "        self.divisor = divisor\n",
    "        self.true_target = true_target\n",
    "        self.false_target = false_target\n",
    "\n",
    "        self.item_counter = 0\n",
    "\n",
    "    def turn(self, other_monkeys):\n",
    "        for worry_level in self.current_items:\n",
    "            worry_level = self.operation(worry_level)\n",
    "            worry_level = worry_level // 3\n",
    "            if worry_level % self.divisor == 0:\n",
    "                other_monkeys[self.true_target].current_items.append(worry_level)\n",
    "            else: \n",
    "                other_monkeys[self.false_target].current_items.append(worry_level)\n",
    "            self.item_counter += 1\n",
    "        self.current_items = []\n",
    "\n",
    "\n",
    "monkeys = []\n",
    "\n",
    "for entry in data:\n",
    "    monkey_id, current_items, operation, divisor, true_target, false_target = parse_input(entry)\n",
    "    monkeys.append(\n",
    "        Monkey(monkey_id, current_items, operation, divisor, true_target, false_target)\n",
    "    )"
   ]
  },
  {
   "cell_type": "code",
   "execution_count": 5,
   "metadata": {},
   "outputs": [
    {
     "name": "stdout",
     "output_type": "stream",
     "text": [
      "Monkey 4 inspected items 226 times.\n",
      "Monkey 3 inspected items 222 times.\n",
      "Monkey 6 inspected items 194 times.\n",
      "Monkey 2 inspected items 134 times.\n",
      "Monkey 1 inspected items 127 times.\n",
      "Monkey 5 inspected items 93 times.\n",
      "Monkey 7 inspected items 47 times.\n",
      "Monkey 0 inspected items 20 times.\n"
     ]
    },
    {
     "data": {
      "text/plain": [
       "50172"
      ]
     },
     "execution_count": 5,
     "metadata": {},
     "output_type": "execute_result"
    }
   ],
   "source": [
    "for i in range(20):\n",
    "\n",
    "    for monkey in monkeys: \n",
    "        monkey.turn(other_monkeys=monkeys)\n",
    "\n",
    "most_active = sorted(monkeys, key=lambda x: x.item_counter, reverse=True)\n",
    "\n",
    "for monkey in most_active:\n",
    "    print(f'Monkey {monkey.id} inspected items {monkey.item_counter} times.')\n",
    "\n",
    "most_active[0].item_counter * most_active[1].item_counter"
   ]
  },
  {
   "cell_type": "markdown",
   "metadata": {},
   "source": [
    "# Part 2"
   ]
  },
  {
   "cell_type": "code",
   "execution_count": 6,
   "metadata": {},
   "outputs": [],
   "source": [
    "class Monkey():\n",
    "    def __init__(self, monkey_id, current_items, operation, divisor, true_target, false_target):\n",
    "\n",
    "        self.id = monkey_id\n",
    "        self.current_items = current_items\n",
    "        self.operation = operation\n",
    "        self.divisor = divisor\n",
    "        self.true_target = true_target\n",
    "        self.false_target = false_target\n",
    "\n",
    "        self.item_counter = 0\n",
    "\n",
    "        # common multiple of the test divisors of all monkeys\n",
    "        self.common_multiple = 0  # init now, set later\n",
    "\n",
    "    def turn(self, other_monkeys):\n",
    "        for worry_level in self.current_items:\n",
    "            worry_level = self.operation(worry_level)\n",
    "            test_remainder = worry_level % self.divisor\n",
    "            # \"modulo trick\": \n",
    "            # pass the remainder of worry_level / common_multiple (of all monkeys) \n",
    "            # instead of the worry_level itself\n",
    "            if test_remainder == 0:\n",
    "                other_monkeys[self.true_target].current_items.append(worry_level % self.common_multiple)\n",
    "            else: \n",
    "                other_monkeys[self.false_target].current_items.append(worry_level % self.common_multiple)\n",
    "            self.item_counter += 1\n",
    "        self.current_items = []\n",
    "\n",
    "\n",
    "monkeys = []\n",
    "\n",
    "for entry in data:\n",
    "    monkey_id, current_items, operation, divisor, true_target, false_target = parse_input(entry)\n",
    "    monkeys.append(\n",
    "        Monkey(monkey_id, current_items, operation, divisor, true_target, false_target)\n",
    "    )"
   ]
  },
  {
   "cell_type": "code",
   "execution_count": 7,
   "metadata": {},
   "outputs": [],
   "source": [
    "from math import prod\n",
    "\n",
    "# determine common multiple of all test divisors\n",
    "# and set als Monkey.common_multiple for all monkeys\n",
    "\n",
    "common_multiple = prod([m.divisor for m in monkeys])\n",
    "\n",
    "for m in monkeys:\n",
    "    m.common_multiple = common_multiple"
   ]
  },
  {
   "cell_type": "code",
   "execution_count": 8,
   "metadata": {},
   "outputs": [
    {
     "name": "stderr",
     "output_type": "stream",
     "text": [
      "100%|██████████| 10000/10000 [00:00<00:00, 46932.16it/s]"
     ]
    },
    {
     "name": "stdout",
     "output_type": "stream",
     "text": [
      "Monkey 3 inspected items 109098 times.\n",
      "Monkey 4 inspected items 106461 times.\n",
      "Monkey 2 inspected items 73630 times.\n",
      "Monkey 1 inspected items 70776 times.\n",
      "Monkey 5 inspected items 62841 times.\n",
      "Monkey 6 inspected items 61442 times.\n",
      "Monkey 7 inspected items 50365 times.\n",
      "Monkey 0 inspected items 10659 times.\n"
     ]
    },
    {
     "name": "stderr",
     "output_type": "stream",
     "text": [
      "\n"
     ]
    },
    {
     "data": {
      "text/plain": [
       "11614682178"
      ]
     },
     "execution_count": 8,
     "metadata": {},
     "output_type": "execute_result"
    }
   ],
   "source": [
    "from tqdm import tqdm\n",
    "\n",
    "for i in tqdm(range(10000)):\n",
    "\n",
    "    for monkey in monkeys: \n",
    "        monkey.turn(other_monkeys=monkeys)\n",
    "\n",
    "most_active = sorted(monkeys, key=lambda x: x.item_counter, reverse=True)\n",
    "\n",
    "for monkey in most_active:\n",
    "    print(f'Monkey {monkey.id} inspected items {monkey.item_counter} times.')\n",
    "\n",
    "most_active[0].item_counter * most_active[1].item_counter"
   ]
  },
  {
   "cell_type": "code",
   "execution_count": null,
   "metadata": {},
   "outputs": [],
   "source": []
  }
 ],
 "metadata": {
  "kernelspec": {
   "display_name": "Python 3.8.12 ('base')",
   "language": "python",
   "name": "python3"
  },
  "language_info": {
   "codemirror_mode": {
    "name": "ipython",
    "version": 3
   },
   "file_extension": ".py",
   "mimetype": "text/x-python",
   "name": "python",
   "nbconvert_exporter": "python",
   "pygments_lexer": "ipython3",
   "version": "3.8.12"
  },
  "orig_nbformat": 4,
  "vscode": {
   "interpreter": {
    "hash": "14edf36ee736f497fb2e8487c9c9bb1fa46c99acfed02966012f887e694b884b"
   }
  }
 },
 "nbformat": 4,
 "nbformat_minor": 2
}
