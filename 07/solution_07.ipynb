{
 "cells": [
  {
   "cell_type": "raw",
   "metadata": {},
   "source": [
    "data = \"\"\"\n",
    "$ cd /\n",
    "$ ls\n",
    "dir a\n",
    "14848514 b.txt\n",
    "8504156 c.dat\n",
    "dir d\n",
    "$ cd a\n",
    "$ ls\n",
    "dir e\n",
    "29116 f\n",
    "2557 g\n",
    "62596 h.lst\n",
    "$ cd e\n",
    "$ ls\n",
    "584 i\n",
    "$ cd ..\n",
    "$ cd ..\n",
    "$ cd d\n",
    "$ ls\n",
    "4060174 j\n",
    "8033020 d.log\n",
    "5626152 d.ext\n",
    "7214296 k\n",
    "\"\"\".strip()"
   ]
  },
  {
   "cell_type": "code",
   "execution_count": 9,
   "metadata": {},
   "outputs": [],
   "source": [
    "with open('input') as f:\n",
    "    data = f.read().strip()"
   ]
  },
  {
   "cell_type": "code",
   "execution_count": 10,
   "metadata": {},
   "outputs": [],
   "source": [
    "class CWDTracker():\n",
    "    \n",
    "    def __init__(self):\n",
    "        self.cwd = ''\n",
    "\n",
    "    def cd(self, path):\n",
    "        if path == '/':\n",
    "            self.cwd = path\n",
    "        elif path == '..':\n",
    "            self.cwd = '/'.join(self.cwd.rstrip('/').split('/')[:-1]) + '/'\n",
    "        else: \n",
    "            self.cwd += path + '/'\n",
    "\n",
    "    def abspath(self, name):\n",
    "        return self.cwd + name\n",
    "\n",
    "    @staticmethod\n",
    "    def parent_dir(path):\n",
    "        return '/'.join(path.rstrip('/').split('/')[:-1]) + '/'\n",
    "\n",
    "class FileTree():\n",
    "\n",
    "    def __init__(self):\n",
    "        self.path2node = dict()\n",
    "        self.id_tracker = 0\n",
    "\n",
    "    def add_node(self, path, node_type, size=0):\n",
    "        if path not in self.path2node.keys():\n",
    "            node = Node(path, node_type, size=size)\n",
    "            node.parent = self.path2node[CWDTracker.parent_dir(path)] if path != '/' else None\n",
    "            self.path2node[path] = node\n",
    "\n",
    "    def get_node(self, path):\n",
    "        return self.path2node[path]\n",
    "\n",
    "class Node():\n",
    "    \n",
    "    def __init__(self, path, node_type, size=0):\n",
    "        assert node_type in ['dir', 'file']\n",
    "        self.node_type = node_type\n",
    "        self.path = path\n",
    "        self.size = size\n",
    "        self.depth = len(path.split('/'))\n",
    "        self.parent = None"
   ]
  },
  {
   "cell_type": "code",
   "execution_count": 11,
   "metadata": {},
   "outputs": [],
   "source": [
    "def parse_line(line, filetree, wd_tracker):\n",
    "\n",
    "    splitted = line.split()\n",
    "\n",
    "    if splitted[0] == '$':  # found command\n",
    "        command = splitted[1]\n",
    "        if command == 'cd':  # cd command\n",
    "            _, _, path = splitted\n",
    "            wd_tracker.cd(path)\n",
    "            filetree.add_node(path=wd_tracker.cwd, node_type='dir')\n",
    "        elif command == 'ls':  # ls command\n",
    "            pass\n",
    "\n",
    "    elif splitted[0] == 'dir':  # found directory\n",
    "        _, name = splitted\n",
    "        dir_path = wd_tracker.abspath(name)\n",
    "        filetree.add_node(path=dir_path, node_type='dir')\n",
    "\n",
    "    else:  # found file\n",
    "        size, name = splitted\n",
    "        file_path = wd_tracker.abspath(name)\n",
    "        filetree.add_node(path=file_path, node_type='file', size=int(size))\n",
    "\n",
    "\n",
    "def run_history(lines, filetree, wd_tracker):\n",
    "\n",
    "    for line in lines:\n",
    "        parse_line(line, filetree, wd_tracker)"
   ]
  },
  {
   "cell_type": "markdown",
   "metadata": {},
   "source": [
    "# Part 1"
   ]
  },
  {
   "cell_type": "code",
   "execution_count": 12,
   "metadata": {},
   "outputs": [],
   "source": [
    "# init parser\n",
    "filetree = FileTree()\n",
    "wd_tracker = CWDTracker()\n",
    "\n",
    "run_history(data.splitlines(), filetree, wd_tracker)\n",
    "\n",
    "deepest_nodes = [node for node in sorted(filetree.path2node.values(), key=lambda x:x.depth)][::-1]\n",
    "\n",
    "for node in deepest_nodes[:-1]:  # [:-1] to exclude root node\n",
    "    node.parent.size += node.size"
   ]
  },
  {
   "cell_type": "code",
   "execution_count": 13,
   "metadata": {},
   "outputs": [
    {
     "data": {
      "text/plain": [
       "1513699"
      ]
     },
     "execution_count": 13,
     "metadata": {},
     "output_type": "execute_result"
    }
   ],
   "source": [
    "selected_nodes = [(node.path, node.size) for node in filetree.path2node.values() if (node.node_type == 'dir' and node.size <= 100000)]\n",
    "sum([n[1] for n in selected_nodes])"
   ]
  },
  {
   "cell_type": "markdown",
   "metadata": {},
   "source": [
    "# Part 2"
   ]
  },
  {
   "cell_type": "code",
   "execution_count": 14,
   "metadata": {},
   "outputs": [],
   "source": [
    "total_space = 70000000\n",
    "total_needed = 30000000\n",
    "\n",
    "root_node = filetree.get_node('/')\n",
    "free_space = total_space - root_node.size\n",
    "\n",
    "needed = total_needed - free_space\n",
    "\n",
    "sufficiently_large_nodes = [(node.path, node.size) for node in sorted(filetree.path2node.values(), key=lambda x:x.size) if node.size >= needed]"
   ]
  },
  {
   "cell_type": "code",
   "execution_count": 15,
   "metadata": {},
   "outputs": [
    {
     "data": {
      "text/plain": [
       "[('/pntzm/mbtsvblj/csqcnmtc/mbtsvblj/', 7991939),\n",
       " ('/pntzm/mbtsvblj/zcrrtlh/dhsmmlt/wffbp/mbtsvblj/mbtsvblj/', 8113815),\n",
       " ('/thfgwwsp/', 8389675),\n",
       " ('/pntzm/mbtsvblj/csqcnmtc/', 9405481),\n",
       " ('/pntzm/mbtsvblj/zcrrtlh/dhsmmlt/wffbp/mbtsvblj/', 10264814),\n",
       " ('/pntzm/mbtsvblj/zcrrtlh/dhsmmlt/wffbp/', 12324512),\n",
       " ('/pntzm/mbtsvblj/zcrrtlh/dhsmmlt/', 13246500),\n",
       " ('/pntzm/mbtsvblj/zcrrtlh/', 14682970),\n",
       " ('/pntzm/mbtsvblj/', 27924493),\n",
       " ('/pntzm/', 29757629),\n",
       " ('/', 46876531)]"
      ]
     },
     "execution_count": 15,
     "metadata": {},
     "output_type": "execute_result"
    }
   ],
   "source": [
    "sufficiently_large_nodes"
   ]
  },
  {
   "cell_type": "code",
   "execution_count": 16,
   "metadata": {},
   "outputs": [
    {
     "data": {
      "text/plain": [
       "7991939"
      ]
     },
     "execution_count": 16,
     "metadata": {},
     "output_type": "execute_result"
    }
   ],
   "source": [
    "sufficiently_large_nodes[0][1]"
   ]
  }
 ],
 "metadata": {
  "kernelspec": {
   "display_name": "Python 3.8.12 ('base')",
   "language": "python",
   "name": "python3"
  },
  "language_info": {
   "codemirror_mode": {
    "name": "ipython",
    "version": 3
   },
   "file_extension": ".py",
   "mimetype": "text/x-python",
   "name": "python",
   "nbconvert_exporter": "python",
   "pygments_lexer": "ipython3",
   "version": "3.8.12"
  },
  "orig_nbformat": 4,
  "vscode": {
   "interpreter": {
    "hash": "14edf36ee736f497fb2e8487c9c9bb1fa46c99acfed02966012f887e694b884b"
   }
  }
 },
 "nbformat": 4,
 "nbformat_minor": 2
}
