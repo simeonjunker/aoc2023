{
 "cells": [
  {
   "cell_type": "code",
   "execution_count": 1,
   "metadata": {},
   "outputs": [],
   "source": [
    "import re\n",
    "from copy import deepcopy"
   ]
  },
  {
   "cell_type": "raw",
   "metadata": {},
   "source": [
    "data = \"\"\"\n",
    "    [D]    \n",
    "[N] [C]    \n",
    "[Z] [M] [P]\n",
    " 1   2   3 \n",
    "\n",
    "move 1 from 2 to 1\n",
    "move 3 from 1 to 3\n",
    "move 2 from 2 to 1\n",
    "move 1 from 1 to 2\n",
    "\"\"\""
   ]
  },
  {
   "cell_type": "code",
   "execution_count": 2,
   "metadata": {},
   "outputs": [],
   "source": [
    "with open('input') as f:\n",
    "    data = f.read()"
   ]
  },
  {
   "cell_type": "code",
   "execution_count": 3,
   "metadata": {},
   "outputs": [],
   "source": [
    "boxes, instructions = re.split(r'\\n[\\d ]+\\n', data)\n",
    "\n",
    "box_idx = re.search(r'\\n[\\d ]+\\n', data).group().split()\n",
    "box_idx = list(map(int, box_idx))\n",
    "n_stacks = max(box_idx)\n",
    "\n",
    "boxes = re.sub(r'] ?', ',', boxes)\n",
    "boxes = re.sub(r' ?\\[', '', boxes)\n",
    "boxes = re.sub(r' ?   ', ',', boxes)\n",
    "\n",
    "instruction_data = re.findall(r'move (\\d+) from (\\d+) to (\\d+)', instructions)\n",
    "\n",
    "stacks = []\n",
    "for _ in range(n_stacks):\n",
    "    stacks.append([])\n",
    "\n",
    "for line in boxes.strip().splitlines()[::-1]:\n",
    "    box_values = line.split(',')[:-1]\n",
    "    for box_value, stack in zip(box_values, stacks):\n",
    "        if box_value != '':\n",
    "            stack.append(box_value)"
   ]
  },
  {
   "cell_type": "markdown",
   "metadata": {},
   "source": [
    "# Part 1"
   ]
  },
  {
   "cell_type": "code",
   "execution_count": 4,
   "metadata": {},
   "outputs": [
    {
     "data": {
      "text/plain": [
       "'VWLCWGSDQ'"
      ]
     },
     "execution_count": 4,
     "metadata": {},
     "output_type": "execute_result"
    }
   ],
   "source": [
    "_stacks = deepcopy(stacks)\n",
    "\n",
    "for line in instruction_data:\n",
    "    n_source, source_stack, target_stack = map(int, line)\n",
    "    source_stack -= 1\n",
    "    target_stack -= 1\n",
    "    select_idx = n_source*-1\n",
    "    selected = _stacks[source_stack][select_idx:][::-1]\n",
    "\n",
    "    _stacks[source_stack] = _stacks[source_stack][:select_idx]\n",
    "    _stacks[target_stack] += selected\n",
    "\n",
    "top_stacks = [stack[-1] for stack in _stacks]\n",
    "''.join(top_stacks)"
   ]
  },
  {
   "cell_type": "markdown",
   "metadata": {},
   "source": [
    "# Part 2"
   ]
  },
  {
   "cell_type": "code",
   "execution_count": 5,
   "metadata": {},
   "outputs": [
    {
     "data": {
      "text/plain": [
       "'TCGLQSLPW'"
      ]
     },
     "execution_count": 5,
     "metadata": {},
     "output_type": "execute_result"
    }
   ],
   "source": [
    "_stacks = deepcopy(stacks)\n",
    "\n",
    "for line in instruction_data:\n",
    "    n_source, source_stack, target_stack = map(int, line)\n",
    "    source_stack -= 1\n",
    "    target_stack -= 1\n",
    "    select_idx = n_source*-1\n",
    "    selected = _stacks[source_stack][select_idx:]\n",
    "\n",
    "    _stacks[source_stack] = _stacks[source_stack][:select_idx]\n",
    "    _stacks[target_stack] += selected\n",
    "\n",
    "top_stacks = [stack[-1] for stack in _stacks]\n",
    "''.join(top_stacks)"
   ]
  }
 ],
 "metadata": {
  "kernelspec": {
   "display_name": "Python 3.8.12 ('base')",
   "language": "python",
   "name": "python3"
  },
  "language_info": {
   "codemirror_mode": {
    "name": "ipython",
    "version": 3
   },
   "file_extension": ".py",
   "mimetype": "text/x-python",
   "name": "python",
   "nbconvert_exporter": "python",
   "pygments_lexer": "ipython3",
   "version": "3.8.12"
  },
  "orig_nbformat": 4,
  "vscode": {
   "interpreter": {
    "hash": "14edf36ee736f497fb2e8487c9c9bb1fa46c99acfed02966012f887e694b884b"
   }
  }
 },
 "nbformat": 4,
 "nbformat_minor": 2
}
