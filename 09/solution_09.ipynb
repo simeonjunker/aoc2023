{
 "cells": [
  {
   "cell_type": "raw",
   "metadata": {},
   "source": [
    "sample_data1 = \"\"\"\n",
    "R 4\n",
    "U 4\n",
    "L 3\n",
    "D 1\n",
    "R 4\n",
    "D 1\n",
    "L 5\n",
    "R 2\n",
    "\"\"\".strip().splitlines()"
   ]
  },
  {
   "cell_type": "raw",
   "metadata": {},
   "source": [
    "sample_data2 = \"\"\"\n",
    "R 5\n",
    "U 8\n",
    "L 8\n",
    "D 3\n",
    "R 17\n",
    "D 10\n",
    "L 25\n",
    "U 20\n",
    "\"\"\".strip().splitlines()"
   ]
  },
  {
   "cell_type": "code",
   "execution_count": 1,
   "metadata": {},
   "outputs": [],
   "source": [
    "with open('input') as f:\n",
    "    data = f.read().strip().splitlines()"
   ]
  },
  {
   "cell_type": "code",
   "execution_count": 2,
   "metadata": {},
   "outputs": [],
   "source": [
    "moves = []\n",
    "for d in data:\n",
    "    direction, steps = d.split()\n",
    "    moves.append((direction, int(steps)))"
   ]
  },
  {
   "cell_type": "code",
   "execution_count": 3,
   "metadata": {},
   "outputs": [],
   "source": [
    "def is_adjacent(head, tail):\n",
    "    return (abs(head[0] - tail[0]) <= 1) and (abs(head[1] - tail[1]) <= 1)\n",
    "\n",
    "def move(direction, head):\n",
    "    \n",
    "    x, y = head\n",
    "\n",
    "    if direction == 'U':\n",
    "        return (x, y+1)\n",
    "    elif direction == 'D':\n",
    "        return (x, y-1)\n",
    "    elif direction == 'L':\n",
    "        return (x-1, y)\n",
    "    elif direction == 'R':\n",
    "        return (x+1, y)\n",
    "\n",
    "def follow(head, tail):\n",
    "\n",
    "    hx, hy = head\n",
    "    tx, ty = tail\n",
    "    \n",
    "    move = None\n",
    "    if is_adjacent(head, tail):\n",
    "        move = 0,0  # stay\n",
    "    if abs(hx-tx) + abs(hy-ty) == 2:\n",
    "        if hx > tx and hy == ty:\n",
    "            move = 1,0  # right\n",
    "        elif hx < tx and hy == ty:\n",
    "            move = -1,0  # left\n",
    "        elif hx==tx and hy > ty:\n",
    "            move = 0,1  # up\n",
    "        elif hx==tx and hy < ty:\n",
    "            move = 0,-1  # down\n",
    "    else:\n",
    "        if hx > tx and hy > ty:\n",
    "            move = 1,1 # right up\n",
    "        elif hx > tx and hy < ty:\n",
    "            move = 1,-1 # right down\n",
    "        elif hx < tx and hy > ty:\n",
    "            move = -1,1 # left up\n",
    "        elif hx < tx and hy < ty:\n",
    "            move = -1,-1 # left down\n",
    "    \n",
    "    assert move is not None\n",
    "\n",
    "    dx, dy = move\n",
    "\n",
    "    return tx+dx, ty+dy"
   ]
  },
  {
   "cell_type": "markdown",
   "metadata": {},
   "source": [
    "# Part 1"
   ]
  },
  {
   "cell_type": "code",
   "execution_count": 4,
   "metadata": {},
   "outputs": [
    {
     "data": {
      "text/plain": [
       "6087"
      ]
     },
     "execution_count": 4,
     "metadata": {},
     "output_type": "execute_result"
    }
   ],
   "source": [
    "head = (0,0)  # x, y\n",
    "tail = (0,0)  # x, y\n",
    "\n",
    "head_positions = [head]\n",
    "tail_positions = [tail]\n",
    "\n",
    "for m in moves:\n",
    "    direction, steps = m\n",
    "    for step in range(steps):\n",
    "        head = move(direction, head)\n",
    "        tail = follow(head, tail)\n",
    "\n",
    "        head_positions.append(head)\n",
    "        tail_positions.append(tail)\n",
    "\n",
    "len(set(tail_positions))"
   ]
  },
  {
   "cell_type": "markdown",
   "metadata": {},
   "source": [
    "# Part 2"
   ]
  },
  {
   "cell_type": "code",
   "execution_count": 5,
   "metadata": {},
   "outputs": [
    {
     "data": {
      "text/plain": [
       "2493"
      ]
     },
     "execution_count": 5,
     "metadata": {},
     "output_type": "execute_result"
    }
   ],
   "source": [
    "knots = [(0,0) for i in range(10)]\n",
    "\n",
    "knot_positions = [knots]\n",
    "\n",
    "for m in moves:\n",
    "    direction, steps = m\n",
    "    for step in range(steps):\n",
    "\n",
    "        new_positions = []\n",
    "        new_positions.append(\n",
    "            move(direction, knots[0])\n",
    "        )\n",
    "\n",
    "        for i in range(1,10):\n",
    "            new_positions.append(\n",
    "                follow(new_positions[i-1], knots[i])\n",
    "            )\n",
    "\n",
    "        knots = new_positions\n",
    "        knot_positions.append(knots)\n",
    "\n",
    "len(set([k[-1] for k in knot_positions]))"
   ]
  }
 ],
 "metadata": {
  "kernelspec": {
   "display_name": "Python 3.8.12 ('base')",
   "language": "python",
   "name": "python3"
  },
  "language_info": {
   "codemirror_mode": {
    "name": "ipython",
    "version": 3
   },
   "file_extension": ".py",
   "mimetype": "text/x-python",
   "name": "python",
   "nbconvert_exporter": "python",
   "pygments_lexer": "ipython3",
   "version": "3.8.12"
  },
  "orig_nbformat": 4,
  "vscode": {
   "interpreter": {
    "hash": "14edf36ee736f497fb2e8487c9c9bb1fa46c99acfed02966012f887e694b884b"
   }
  }
 },
 "nbformat": 4,
 "nbformat_minor": 2
}
