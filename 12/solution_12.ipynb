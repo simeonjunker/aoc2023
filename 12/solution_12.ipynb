{
 "cells": [
  {
   "cell_type": "raw",
   "metadata": {},
   "source": [
    "data = \"\"\"\n",
    "Sabqponm\n",
    "abcryxxl\n",
    "accszExk\n",
    "acctuvwj\n",
    "abdefghi\n",
    "\"\"\".strip()"
   ]
  },
  {
   "cell_type": "code",
   "execution_count": 1,
   "metadata": {},
   "outputs": [],
   "source": [
    "with open('input') as f:\n",
    "    data = f.read().strip()"
   ]
  },
  {
   "cell_type": "code",
   "execution_count": 2,
   "metadata": {},
   "outputs": [],
   "source": [
    "from string import ascii_lowercase\n",
    "\n",
    "parsed = [list(line) for line in data.split('\\n')]\n",
    "\n",
    "# get x and y coordinates for start and goal\n",
    "from itertools import chain\n",
    "flatten = list(chain(*parsed))\n",
    "\n",
    "x_start = flatten.index('S') % len(parsed[0])\n",
    "y_start = flatten.index('S') // len(parsed[0])\n",
    "start = (x_start, y_start)\n",
    "\n",
    "x_end = flatten.index('E') % len(parsed[0])\n",
    "y_end = flatten.index('E') // len(parsed[0])\n",
    "end = (x_end, y_end)\n",
    "\n",
    "# validate\n",
    "assert parsed[y_start][x_start] == 'S'\n",
    "assert parsed[y_end][x_end] == 'E'\n",
    "\n",
    "# create height matrix\n",
    "\n",
    "parsed[y_start][x_start] = 'a'\n",
    "parsed[y_end][x_end] = 'z'\n",
    "\n",
    "letter_vals = {y:x for x,y in enumerate(ascii_lowercase)}\n",
    "heights = [[letter_vals[entry] for entry in line] for line in parsed]\n"
   ]
  },
  {
   "cell_type": "code",
   "execution_count": 3,
   "metadata": {},
   "outputs": [],
   "source": [
    "from queue import PriorityQueue\n",
    "\n",
    "class Graph():\n",
    "\n",
    "    def __init__(self, height_matrix):\n",
    "        self.nodes = []\n",
    "        self.edges = []\n",
    "\n",
    "        for y1, line in enumerate(height_matrix):\n",
    "            for x1, entry in enumerate(line):\n",
    "                \n",
    "                self.nodes.append((x1,y1))\n",
    "                h_xy1 = heights[y1][x1]\n",
    "\n",
    "                if x1 > 0:\n",
    "                    x2, y2 = x1-1, y1\n",
    "                    h_xy2 = heights[y2][x2]\n",
    "                    diff = h_xy2 - h_xy1\n",
    "                    self.edges.append(\n",
    "                        ((x1,y1), (x2,y2), diff)\n",
    "                    )\n",
    "                if x1 < len(line)-1:\n",
    "                    x2, y2 = x1+1, y1\n",
    "                    h_xy2 = heights[y2][x2]\n",
    "                    diff = h_xy2 - h_xy1\n",
    "                    self.edges.append(\n",
    "                        ((x1,y1), (x2,y2), diff)\n",
    "                    )\n",
    "                if y1 > 0:\n",
    "                    x2, y2 = x1, y1-1\n",
    "                    h_xy2 = heights[y2][x2]\n",
    "                    diff = h_xy2 - h_xy1\n",
    "                    self.edges.append(\n",
    "                        ((x1,y1), (x2,y2), diff)\n",
    "                    )\n",
    "                if y1 < len(height_matrix)-1:\n",
    "                    x2, y2 = x1, y1+1\n",
    "                    h_xy2 = heights[y2][x2]\n",
    "                    diff = h_xy2 - h_xy1\n",
    "                    self.edges.append(\n",
    "                        ((x1,y1), (x2,y2), diff)\n",
    "                    )\n",
    "        \n",
    "        self.traversable = [e for e in self.edges if e[2] <= 1]\n",
    "        self.r_traversable = [e for e in self.edges if (e[2]*-1) <= 1]\n",
    "\n",
    "    def dijkstra(self, start, reverse_direction=False):\n",
    "        D = {n:float('inf') for n in self.nodes}\n",
    "        D[start] = 0\n",
    "        visited = []\n",
    "\n",
    "        edges = self.r_traversable if reverse_direction else self.traversable\n",
    "\n",
    "        pq = PriorityQueue()\n",
    "        pq.put((0, start))\n",
    "\n",
    "        while not pq.empty():\n",
    "            (dist, current_node) = pq.get()\n",
    "            visited.append(current_node)\n",
    "\n",
    "            for xy1, xy2, _ in edges:\n",
    "                if xy1 == current_node:\n",
    "                    if xy2 not in visited:\n",
    "                        old_cost = D[xy2]\n",
    "                        new_cost = D[current_node] + 1\n",
    "                        if new_cost < old_cost:\n",
    "                            pq.put((new_cost, xy2))\n",
    "                            D[xy2] = new_cost\n",
    "        \n",
    "        self.D = D"
   ]
  },
  {
   "cell_type": "markdown",
   "metadata": {},
   "source": [
    "# Part 1"
   ]
  },
  {
   "cell_type": "code",
   "execution_count": 4,
   "metadata": {},
   "outputs": [
    {
     "name": "stdout",
     "output_type": "stream",
     "text": [
      "Distance from start to end is 447.\n"
     ]
    }
   ],
   "source": [
    "g = Graph(parsed)\n",
    "g.dijkstra(start)\n",
    "distance = g.D[end]\n",
    "print(f'Distance from start to end is {distance}.')"
   ]
  },
  {
   "cell_type": "markdown",
   "metadata": {},
   "source": [
    "# Part 2"
   ]
  },
  {
   "cell_type": "code",
   "execution_count": 5,
   "metadata": {},
   "outputs": [
    {
     "name": "stdout",
     "output_type": "stream",
     "text": [
      "2092 starting points\n"
     ]
    }
   ],
   "source": [
    "flatten = list(chain(*parsed))\n",
    "\n",
    "starting_points = []\n",
    "\n",
    "for i, e in enumerate(flatten):\n",
    "    if e == 'a':\n",
    "        x_start = i % len(parsed[0])\n",
    "        y_start = i // len(parsed[0])\n",
    "        starting_points.append((x_start, y_start))\n",
    "\n",
    "print(f'{len(starting_points)} starting points')"
   ]
  },
  {
   "cell_type": "code",
   "execution_count": 6,
   "metadata": {},
   "outputs": [
    {
     "name": "stdout",
     "output_type": "stream",
     "text": [
      "closest distance is 446 for starting point (0, 19).\n"
     ]
    }
   ],
   "source": [
    "g.dijkstra(end, reverse_direction=True)\n",
    "\n",
    "dist_to_start = [(start, g.D[start]) for start in starting_points]\n",
    "closest_point, distance = sorted(dist_to_start, key=lambda x: x[1])[0]\n",
    "print(f'closest distance is {distance} for starting point {closest_point}.')"
   ]
  }
 ],
 "metadata": {
  "kernelspec": {
   "display_name": "Python 3.8.12 ('base')",
   "language": "python",
   "name": "python3"
  },
  "language_info": {
   "codemirror_mode": {
    "name": "ipython",
    "version": 3
   },
   "file_extension": ".py",
   "mimetype": "text/x-python",
   "name": "python",
   "nbconvert_exporter": "python",
   "pygments_lexer": "ipython3",
   "version": "3.8.12"
  },
  "orig_nbformat": 4,
  "vscode": {
   "interpreter": {
    "hash": "14edf36ee736f497fb2e8487c9c9bb1fa46c99acfed02966012f887e694b884b"
   }
  }
 },
 "nbformat": 4,
 "nbformat_minor": 2
}
