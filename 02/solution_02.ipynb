{
 "cells": [
  {
   "cell_type": "markdown",
   "id": "e5a3cb11-0487-4de0-9f01-26d0a511d32a",
   "metadata": {},
   "source": [
    "# Part 1"
   ]
  },
  {
   "cell_type": "code",
   "execution_count": 1,
   "id": "855c1efb-676a-4698-80ab-74ec31b6aa4b",
   "metadata": {},
   "outputs": [],
   "source": [
    "with open('input') as f:\n",
    "    data = f.read()\n",
    "data = data.strip().splitlines()"
   ]
  },
  {
   "cell_type": "code",
   "execution_count": 2,
   "id": "de21dace-e8f3-4d3e-867c-1e3eac3dd2fc",
   "metadata": {},
   "outputs": [],
   "source": [
    "game_scores = {\n",
    "    'A Y': 6, \n",
    "    'B Z': 6, \n",
    "    'C X': 6, \n",
    "    'A X': 3, \n",
    "    'B Y': 3, \n",
    "    'C Z': 3,\n",
    "    'A Z': 0, \n",
    "    'B X': 0, \n",
    "    'C Y': 0, \n",
    "}\n",
    "\n",
    "shape_scores = {\n",
    "    'X': 1, \n",
    "    'Y': 2, \n",
    "    'Z': 3\n",
    "}\n",
    "\n",
    "def get_score(line, game=game_scores, shape=shape_scores):\n",
    "    return game[line] + shape[line[-1]]"
   ]
  },
  {
   "cell_type": "code",
   "execution_count": 3,
   "id": "732e3bfa-90ff-44ae-893e-594edce96734",
   "metadata": {},
   "outputs": [
    {
     "data": {
      "text/plain": [
       "12586"
      ]
     },
     "execution_count": 3,
     "metadata": {},
     "output_type": "execute_result"
    }
   ],
   "source": [
    "scores = []\n",
    "for line in data:\n",
    "    scores.append(get_score(line))\n",
    "sum(scores)"
   ]
  },
  {
   "cell_type": "markdown",
   "id": "53aa3da0-acb9-4841-bbe4-724c286f9c7c",
   "metadata": {},
   "source": [
    "# Part 2"
   ]
  },
  {
   "cell_type": "code",
   "execution_count": 4,
   "id": "e8714b23-dc88-4def-92d7-1ed65a64ac3c",
   "metadata": {},
   "outputs": [],
   "source": [
    "# X: lose\n",
    "# Y: draw\n",
    "# Z: win\n",
    "\n",
    "translate = {\n",
    "    'A X': 'A Z', # Schere -  Papier\n",
    "    'B X': 'B X', # Stein -  Schere\n",
    "    'C X': 'C Y', # Papier -  Stein\n",
    "    'A Y': 'A X', # Schere - Schere\n",
    "    'B Y': 'B Y', # Stein - Stein \n",
    "    'C Y': 'C Z', # Papier - Papier \n",
    "    'A Z': 'A Y', # Schere - Stein\n",
    "    'B Z': 'B Z', # Stein - Papier\n",
    "    'C Z': 'C X'  # Papier - Schere\n",
    "}"
   ]
  },
  {
   "cell_type": "code",
   "execution_count": 5,
   "id": "73fc4cdf-4263-4340-8ade-f78825a312f9",
   "metadata": {},
   "outputs": [
    {
     "data": {
      "text/plain": [
       "13193"
      ]
     },
     "execution_count": 5,
     "metadata": {},
     "output_type": "execute_result"
    }
   ],
   "source": [
    "translated = [translate[line] for line in data]\n",
    "\n",
    "scores = []\n",
    "for line in translated:\n",
    "    scores.append(get_score(line))\n",
    "sum(scores)"
   ]
  },
  {
   "cell_type": "code",
   "execution_count": null,
   "id": "6e443d38-a1b1-4ef1-a4d5-58f71c1bd040",
   "metadata": {},
   "outputs": [],
   "source": []
  }
 ],
 "metadata": {
  "kernelspec": {
   "display_name": "Python 3 (ipykernel)",
   "language": "python",
   "name": "python3"
  },
  "language_info": {
   "codemirror_mode": {
    "name": "ipython",
    "version": 3
   },
   "file_extension": ".py",
   "mimetype": "text/x-python",
   "name": "python",
   "nbconvert_exporter": "python",
   "pygments_lexer": "ipython3",
   "version": "3.8.12"
  }
 },
 "nbformat": 4,
 "nbformat_minor": 5
}
