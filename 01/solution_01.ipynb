{
 "cells": [
  {
   "cell_type": "markdown",
   "id": "9087aff1-5226-4b45-a1ce-dc23b050225d",
   "metadata": {},
   "source": [
    "# Part 1"
   ]
  },
  {
   "cell_type": "code",
   "execution_count": 1,
   "id": "87122c07-4864-4b50-93f5-894752d14c6b",
   "metadata": {},
   "outputs": [],
   "source": [
    "with open('input') as f:\n",
    "    data = f.read()"
   ]
  },
  {
   "cell_type": "code",
   "execution_count": 2,
   "id": "0a0b6b5a-c541-49d3-a0e2-16252b46d6a2",
   "metadata": {},
   "outputs": [],
   "source": [
    "elves_raw = data.split('\\n\\n')"
   ]
  },
  {
   "cell_type": "code",
   "execution_count": 3,
   "id": "97b3f287-d330-4306-93d6-cfb1c454fab0",
   "metadata": {},
   "outputs": [],
   "source": [
    "elves = [\n",
    "    list(map(\n",
    "        int, x.strip().split('\\n')\n",
    "    )) \n",
    "    for x in elves_raw\n",
    "]"
   ]
  },
  {
   "cell_type": "code",
   "execution_count": 4,
   "id": "150c6f66-fa94-495a-b0bf-bf8f5d021295",
   "metadata": {},
   "outputs": [],
   "source": [
    "elves_total_calories = [sum(e) for e in elves]"
   ]
  },
  {
   "cell_type": "code",
   "execution_count": 5,
   "id": "38d041af-2117-4a34-a105-d93b645c7011",
   "metadata": {},
   "outputs": [
    {
     "data": {
      "text/plain": [
       "69177"
      ]
     },
     "execution_count": 5,
     "metadata": {},
     "output_type": "execute_result"
    }
   ],
   "source": [
    "max(elves_total_calories)"
   ]
  },
  {
   "cell_type": "markdown",
   "id": "574da01f-951e-40a1-8943-07fd5c44e9b1",
   "metadata": {},
   "source": [
    "# Part 2"
   ]
  },
  {
   "cell_type": "code",
   "execution_count": 6,
   "id": "dd1385df-bc74-470c-a2f5-c7b866d137d5",
   "metadata": {},
   "outputs": [
    {
     "data": {
      "text/plain": [
       "207456"
      ]
     },
     "execution_count": 6,
     "metadata": {},
     "output_type": "execute_result"
    }
   ],
   "source": [
    "sum(sorted(elves_total_calories, reverse=True)[:3])"
   ]
  },
  {
   "cell_type": "code",
   "execution_count": null,
   "id": "060c315d-36f6-4509-939c-fb9d6b275ea0",
   "metadata": {},
   "outputs": [],
   "source": []
  }
 ],
 "metadata": {
  "kernelspec": {
   "display_name": "Python 3 (ipykernel)",
   "language": "python",
   "name": "python3"
  },
  "language_info": {
   "codemirror_mode": {
    "name": "ipython",
    "version": 3
   },
   "file_extension": ".py",
   "mimetype": "text/x-python",
   "name": "python",
   "nbconvert_exporter": "python",
   "pygments_lexer": "ipython3",
   "version": "3.8.12"
  }
 },
 "nbformat": 4,
 "nbformat_minor": 5
}
