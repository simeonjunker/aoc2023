{
 "cells": [
  {
   "cell_type": "code",
   "execution_count": 1,
   "metadata": {},
   "outputs": [],
   "source": [
    "from itertools import chain"
   ]
  },
  {
   "cell_type": "raw",
   "metadata": {},
   "source": [
    "data = \"\"\"\n",
    "30373\n",
    "25512\n",
    "65332\n",
    "33549\n",
    "35390\n",
    "\"\"\".strip()"
   ]
  },
  {
   "cell_type": "code",
   "execution_count": 2,
   "metadata": {},
   "outputs": [],
   "source": [
    "with open('input') as f:\n",
    "    data = f.read().strip()"
   ]
  },
  {
   "cell_type": "code",
   "execution_count": 3,
   "metadata": {},
   "outputs": [],
   "source": [
    "data = [list(line) for line in data.splitlines()]"
   ]
  },
  {
   "cell_type": "code",
   "execution_count": 4,
   "metadata": {},
   "outputs": [],
   "source": [
    "def flip(list_of_lists):\n",
    "    return list(map(list, zip(*list_of_lists)))"
   ]
  },
  {
   "cell_type": "markdown",
   "metadata": {},
   "source": [
    "# Part 1"
   ]
  },
  {
   "cell_type": "code",
   "execution_count": 5,
   "metadata": {},
   "outputs": [],
   "source": [
    "def are_visible(line):\n",
    "    visible = []\n",
    "    for i, d in enumerate(line):\n",
    "        if i == 0 or max(line[:i]) < d:\n",
    "            visible.append(True)\n",
    "        else: \n",
    "            visible.append(False)\n",
    "    return visible"
   ]
  },
  {
   "cell_type": "code",
   "execution_count": 6,
   "metadata": {},
   "outputs": [
    {
     "data": {
      "text/plain": [
       "1690"
      ]
     },
     "execution_count": 6,
     "metadata": {},
     "output_type": "execute_result"
    }
   ],
   "source": [
    "l2r = [are_visible(line) for line in data]\n",
    "r2l = [are_visible(line[::-1])[::-1] for line in data]\n",
    "t2b = flip([are_visible(line) for line in flip(data)])\n",
    "b2t = flip([are_visible(line[::-1])[::-1] for line in flip(data)])\n",
    "\n",
    "visible = []\n",
    "for i, line in enumerate(data):\n",
    "    visible_line = []\n",
    "    for j, _ in enumerate(line):\n",
    "        visible_line.append((l2r[i][j], r2l[i][j], t2b[i][j], b2t[i][j]))\n",
    "    visible.append(visible_line)\n",
    "\n",
    "flatten = list(chain(*visible))\n",
    "flatten = [any(f) for f in flatten]\n",
    "\n",
    "sum(flatten)"
   ]
  },
  {
   "cell_type": "markdown",
   "metadata": {},
   "source": [
    "# Part 2"
   ]
  },
  {
   "cell_type": "code",
   "execution_count": 7,
   "metadata": {},
   "outputs": [],
   "source": [
    "def partial_scenic_scores(line):\n",
    "    scores = []\n",
    "    for i, d in enumerate(line):\n",
    "        if i == 0:\n",
    "            scores.append(0)\n",
    "        else:\n",
    "            previous = line[:i]\n",
    "            blocking = [t for t in previous if t >= d]\n",
    "            if len(blocking) > 0:\n",
    "                first_blocking = blocking[::-1][0]\n",
    "                distance = previous[::-1].index(first_blocking)\n",
    "                scores.append(distance + 1)\n",
    "            else: \n",
    "                scores.append(i)\n",
    "\n",
    "    return scores\n",
    "\n",
    "def scenic_score(x):\n",
    "    return x[0] * x[1] * x[2] * x[3]"
   ]
  },
  {
   "cell_type": "code",
   "execution_count": 8,
   "metadata": {},
   "outputs": [
    {
     "data": {
      "text/plain": [
       "535680"
      ]
     },
     "execution_count": 8,
     "metadata": {},
     "output_type": "execute_result"
    }
   ],
   "source": [
    "l2r = [partial_scenic_scores(line) for line in data]\n",
    "r2l = [partial_scenic_scores(line[::-1])[::-1] for line in data]\n",
    "t2b = flip([partial_scenic_scores(line) for line in flip(data)])\n",
    "b2t = flip([partial_scenic_scores(line[::-1])[::-1] for line in flip(data)])\n",
    "\n",
    "partial_scores = []\n",
    "for i, line in enumerate(data):\n",
    "    scores_line = []\n",
    "    for j, _ in enumerate(line):\n",
    "        scores_line.append((l2r[i][j], r2l[i][j], t2b[i][j], b2t[i][j]))\n",
    "    partial_scores.append(scores_line)\n",
    "\n",
    "flatten = list(chain(*partial_scores))\n",
    "\n",
    "max(list(map(scenic_score, flatten)))"
   ]
  }
 ],
 "metadata": {
  "kernelspec": {
   "display_name": "Python 3.8.12 ('base')",
   "language": "python",
   "name": "python3"
  },
  "language_info": {
   "codemirror_mode": {
    "name": "ipython",
    "version": 3
   },
   "file_extension": ".py",
   "mimetype": "text/x-python",
   "name": "python",
   "nbconvert_exporter": "python",
   "pygments_lexer": "ipython3",
   "version": "3.8.12"
  },
  "orig_nbformat": 4,
  "vscode": {
   "interpreter": {
    "hash": "14edf36ee736f497fb2e8487c9c9bb1fa46c99acfed02966012f887e694b884b"
   }
  }
 },
 "nbformat": 4,
 "nbformat_minor": 2
}
